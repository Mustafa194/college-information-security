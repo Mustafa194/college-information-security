{
 "cells": [
  {
   "cell_type": "markdown",
   "metadata": {},
   "source": [
    "# Second Lab\n"
   ]
  },
  {
   "cell_type": "markdown",
   "metadata": {},
   "source": [
    "## Example\n",
    "\n",
    "### Write a program to do the following\n",
    "\n",
    "1. The program should save a list of users and their passwords\n",
    "2. The program should ask a email and password, and then check if the user's email is entered correctly until it is entered correctly\n",
    "3. If the user's email correctly, then the program should check if the password is entered correctly? If not, the program should give a warning to the user that he/she has (number of remained) attempts (maximum three attempts) to enter the system\n",
    "4. In case three attempts are finished, the program should wait 60 seconds to enter the correct password\n"
   ]
  },
  {
   "cell_type": "code",
   "execution_count": null,
   "metadata": {},
   "outputs": [],
   "source": [
    "import time\n"
   ]
  },
  {
   "cell_type": "code",
   "execution_count": null,
   "metadata": {},
   "outputs": [],
   "source": [
    "users = [\n",
    "    {\n",
    "        'username': \"mustafa\",\n",
    "        'password': \"mustafa123\"\n",
    "    },\n",
    "    {\n",
    "        'username': \"mohammed\",\n",
    "        'password': \"mohammed123\"\n",
    "    },\n",
    "    {\n",
    "        'username': \"yousif\",\n",
    "        'password': \"yousif123\"\n",
    "    },\n",
    "    {\n",
    "        'username': \"ali\",\n",
    "        'password': \"ali123\"\n",
    "    },\n",
    "    {\n",
    "        'username': \"ahmed\",\n",
    "        'password': \"ahmed123\"\n",
    "    },\n",
    "]\n"
   ]
  },
  {
   "cell_type": "code",
   "execution_count": null,
   "metadata": {},
   "outputs": [],
   "source": [
    "def find_user_by_username(username):\n",
    "    for user in users:\n",
    "        # If the user and password match one of the users the user will be returned\n",
    "        if user['username'] == username:\n",
    "            return user\n",
    "\n",
    "    # If the user and password do not match any one in the list it will return an empty dictionary, which will mean no user found with these credentials\n",
    "    return {}\n"
   ]
  },
  {
   "cell_type": "code",
   "execution_count": null,
   "metadata": {},
   "outputs": [],
   "source": [
    "def sleep(n):\n",
    "    print(f\"Wait {n} seconds\")\n",
    "\n",
    "    for i in range(n, 0, -1):\n",
    "        print(i)\n",
    "        # this will make sure that every iteration takes only 1 second\n",
    "        time.sleep(1)\n"
   ]
  },
  {
   "cell_type": "code",
   "execution_count": null,
   "metadata": {},
   "outputs": [],
   "source": [
    "def check_user():\n",
    "    sleep_time = 60  # 1 minute = 60 seconds\n",
    "    success = False\n",
    "    attempts = 3\n",
    "\n",
    "    while not success:\n",
    "        username = input(\"Enter username: \")\n",
    "\n",
    "        user = find_user_by_username(username)\n",
    "\n",
    "        # If the not user found and not attempts attempts\n",
    "        if not user:\n",
    "            # This will make the user enter the username and password again\n",
    "            continue\n",
    "\n",
    "        # If the user found, he/she will have 3 attempts to enter a correct password\n",
    "        for i in range(attempts - 1, -1, -1):\n",
    "            password = input(\"Enter password: \")\n",
    "\n",
    "            if user['password'] == password:\n",
    "                # Greeting the user when entering the system\n",
    "                print(f\"Welcome {user['username']}\")\n",
    "                print(\"You have entered the system\")\n",
    "                success = True\n",
    "                break\n",
    "\n",
    "            print(f\"You have {i} attempts to enter the password\")\n",
    "\n",
    "        if not success:\n",
    "            sleep(sleep_time)\n"
   ]
  },
  {
   "cell_type": "code",
   "execution_count": null,
   "metadata": {},
   "outputs": [],
   "source": [
    "check_user()\n"
   ]
  }
 ],
 "metadata": {
  "kernelspec": {
   "display_name": "Python 3.10.7 64-bit",
   "language": "python",
   "name": "python3"
  },
  "language_info": {
   "codemirror_mode": {
    "name": "ipython",
    "version": 3
   },
   "file_extension": ".py",
   "mimetype": "text/x-python",
   "name": "python",
   "nbconvert_exporter": "python",
   "pygments_lexer": "ipython3",
   "version": "3.10.7"
  },
  "orig_nbformat": 4,
  "vscode": {
   "interpreter": {
    "hash": "369f2c481f4da34e4445cda3fffd2e751bd1c4d706f27375911949ba6bb62e1c"
   }
  }
 },
 "nbformat": 4,
 "nbformat_minor": 2
}
