{
 "cells": [
  {
   "cell_type": "markdown",
   "metadata": {},
   "source": [
    "# Q2\n",
    "\n",
    "#### Write a program to do the following\n",
    "\n",
    "1. The program should save a user name and it is password. And two security questions with their answers.\n",
    "2. The program should ask a user name and password, and then check if the user’s name is entered correctly or not? If not, the program should ask the user’s name continuously until it is entered correctly.\n",
    "3. If the user’s name is entered correctly, then the program should check if the password is entered correctly? If not, the program should give a warning to the user that he/ she has (number of remained) attempts (maximum three attempts) to enter the system.\n",
    "4. In case three attempts is finished, the program should ask the user’s two security questions. If the user entered correct answer, the program should allow the user to change the password, unless the program should be ended."
   ]
  },
  {
   "cell_type": "code",
   "execution_count": 32,
   "metadata": {},
   "outputs": [],
   "source": [
    "users = [\n",
    "    {\n",
    "        'username': \"mustafa\",\n",
    "        'password': \"mustafa123\",\n",
    "        \"security_questions\": [\n",
    "            {\n",
    "                \"question\": \"What is your favorite movie\",\n",
    "                \"answer\": \"The Lord of The Rings\"\n",
    "            },\n",
    "            {\n",
    "                \"question\": \"What is your favorite series\",\n",
    "                \"answer\": \"The Walking Dead\"\n",
    "            }\n",
    "        ]\n",
    "    },\n",
    "    {\n",
    "        'username': \"mohammed\",\n",
    "        'password': \"mohammed123\",\n",
    "        \"security_questions\": [\n",
    "            {\n",
    "                \"question\": \"What is your favorite animal\",\n",
    "                \"answer\": \"Cat\"\n",
    "            },\n",
    "            {\n",
    "                \"question\": \"What is your favorite food\",\n",
    "                \"answer\": \"Kebab\"\n",
    "            }\n",
    "        ]\n",
    "    },\n",
    "    {\n",
    "        'username': \"yousif\",\n",
    "        'password': \"yousif123\",\n",
    "        \"security_questions\": [\n",
    "            {\n",
    "                \"question\": \"Where were you born\",\n",
    "                \"answer\": \"Iraq\"\n",
    "            },\n",
    "            {\n",
    "                \"question\": \"When were you born\",\n",
    "                \"answer\": \"2000-09-25\"\n",
    "            }\n",
    "        ]\n",
    "    },\n",
    "    {\n",
    "        'username': \"ali\",\n",
    "        'password': \"ali123\",\n",
    "        \"security_questions\": [\n",
    "            {\n",
    "                \"question\": \"What is your favorite programming language\",\n",
    "                \"answer\": \"C#\"\n",
    "            },\n",
    "            {\n",
    "                \"question\": \"What is your favorite database\",\n",
    "                \"answer\": \"Microsoft SQL Server\"\n",
    "            }\n",
    "        ]\n",
    "    },\n",
    "    {\n",
    "        'username': \"ahmed\",\n",
    "        'password': \"ahmed123\",\n",
    "        \"security_questions\": [\n",
    "            {\n",
    "                \"question\": \"What is your programming teacher's name in college\",\n",
    "                \"answer\": \"Mahmood\"\n",
    "            },\n",
    "            {\n",
    "                \"question\": \"What was your favorite subject in school\",\n",
    "                \"answer\": \"Mathematics\"\n",
    "            }\n",
    "        ]\n",
    "    },\n",
    "]\n"
   ]
  },
  {
   "cell_type": "code",
   "execution_count": 33,
   "metadata": {},
   "outputs": [],
   "source": [
    "def find_user_by_username(username):\n",
    "    for user in users:\n",
    "        # If the user and password match one of the users the user will be returned\n",
    "        if user['username'] == username:\n",
    "            return user\n",
    "\n",
    "    # If the user and password do not match any one in the list it will return an empty dictionary, which will mean no user found with these credentials\n",
    "    return {}\n"
   ]
  },
  {
   "cell_type": "code",
   "execution_count": 34,
   "metadata": {},
   "outputs": [],
   "source": [
    "def greet_user(username):\n",
    "    # Greeting the user when entering the system\n",
    "    print(f\"Welcome {username}\")\n",
    "    print(\"You have entered the system\")\n"
   ]
  },
  {
   "cell_type": "code",
   "execution_count": 35,
   "metadata": {},
   "outputs": [],
   "source": [
    "def check_user():\n",
    "  user = {}\n",
    "  tries = 3\n",
    "  \n",
    "  while not user:\n",
    "    username = input(\"Enter username: \")\n",
    "\n",
    "    user = find_user_by_username(username)\n",
    "\n",
    "    # If the not user found and not attempts attempts\n",
    "    if not user:\n",
    "        print(\"No such a user\")\n",
    "        # This will make the user enter the username and password again\n",
    "        continue\n",
    "  \n",
    "  for i in range(tries - 1, -1, -1):\n",
    "    password = input('Enter password: ')\n",
    "    \n",
    "    if user['password'] == password:\n",
    "      greet_user(username)\n",
    "      return\n",
    "    \n",
    "    print(f\"You have {i} tries left\")\n",
    "  \n",
    "  for security_question in user['security_questions']:\n",
    "    answer = input(f\"{security_question['question']}? \")\n",
    "    \n",
    "    if answer != security_question['answer']:\n",
    "      print(\"Invalid answer\")\n",
    "      return\n",
    "  \n",
    "  new_password = input('Enter your new password')\n",
    "  users[users.index(user)]['password'] = new_password\n",
    "\n",
    "  print(users[users.index(user)])\n",
    "  print(\"Password changed successfully\")\n"
   ]
  },
  {
   "cell_type": "code",
   "execution_count": 36,
   "metadata": {},
   "outputs": [],
   "source": [
    "check_user()\n"
   ]
  }
 ],
 "metadata": {
  "kernelspec": {
   "display_name": "Python 3.10.7 64-bit",
   "language": "python",
   "name": "python3"
  },
  "language_info": {
   "codemirror_mode": {
    "name": "ipython",
    "version": 3
   },
   "file_extension": ".py",
   "mimetype": "text/x-python",
   "name": "python",
   "nbconvert_exporter": "python",
   "pygments_lexer": "ipython3",
   "version": "3.10.7"
  },
  "orig_nbformat": 4,
  "vscode": {
   "interpreter": {
    "hash": "369f2c481f4da34e4445cda3fffd2e751bd1c4d706f27375911949ba6bb62e1c"
   }
  }
 },
 "nbformat": 4,
 "nbformat_minor": 2
}
