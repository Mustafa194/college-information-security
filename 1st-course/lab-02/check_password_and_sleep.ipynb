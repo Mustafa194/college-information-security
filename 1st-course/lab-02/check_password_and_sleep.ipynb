{
 "cells": [
  {
   "cell_type": "code",
   "execution_count": null,
   "metadata": {},
   "outputs": [],
   "source": [
    "import time"
   ]
  },
  {
   "cell_type": "code",
   "execution_count": null,
   "metadata": {},
   "outputs": [],
   "source": [
    "users = [\n",
    "  {\n",
    "    'email': \"mustafa@gmail.com\",\n",
    "    'password': \"mustafa123\"\n",
    "  },\n",
    "  {\n",
    "    'email': \"mohammed@gmail.com\",\n",
    "    'password': \"mohammed123\"\n",
    "  },\n",
    "  {\n",
    "    'email': \"yousif@gmail.com\",\n",
    "    'password': \"yousif123\"\n",
    "  },\n",
    "  {\n",
    "    'email': \"ali@gmail.com\",\n",
    "    'password': \"ali123\"\n",
    "  },\n",
    "  {\n",
    "    'email': \"ahmed@gmail.com\",\n",
    "    'password': \"ahmed123\"\n",
    "  },\n",
    "]"
   ]
  },
  {
   "cell_type": "code",
   "execution_count": null,
   "metadata": {},
   "outputs": [],
   "source": [
    "def find_user_by_email(email):\n",
    "  for user in users:\n",
    "    if user['email'] == email:\n",
    "      return user\n",
    "  \n",
    "  return None\n"
   ]
  },
  {
   "cell_type": "code",
   "execution_count": null,
   "metadata": {},
   "outputs": [],
   "source": [
    "def login():\n",
    "  tries = 3\n",
    "  counter = 3\n",
    "  totalTries = 0\n",
    "  success = False\n",
    "  keep_login = True\n",
    "  \n",
    "  # Email must not contain a space or a lowercase letter\n",
    "  email = input('Enter email: ').strip().lower()\n",
    "\n",
    "  real_user = find_user_by_email(email)\n",
    "\n",
    "  # If the user does not exist stop the program\n",
    "  if real_user == None:\n",
    "    print(f\"User with the email {email} does not exist\")\n",
    "    return False\n",
    "\n",
    "  # If user exists check his/her password\n",
    "  while not success and keep_login:\n",
    "    password = input('Enter password: ')\n",
    "\n",
    "    totalTries += 1\n",
    "    counter -= 1\n",
    "\n",
    "    if real_user['password'] == password:\n",
    "      print('Welcome')\n",
    "      success = True\n",
    "      break\n",
    "    else:\n",
    "      print(f'Invalid credentials, You have {counter} tries left.')\n",
    "\n",
    "    if (counter == 0):\n",
    "      # Calculating the (sleep time), so that it will be a minute more than the last sleep\n",
    "      sleep_time = int(totalTries / tries) * 60\n",
    "      print(f'You are out of tries, wait {sleep_time // 60} minutes')\n",
    "      \n",
    "      # Reassigning counter to 3, so that the user will have another 3 tries\n",
    "      counter = 3\n",
    "      \n",
    "      # This will start counting down from the (sleep time) to (0)\n",
    "      for i in range(sleep_time - 1, -1, -1):\n",
    "        # zfill(n) function: will format the number so that if it is less than (n) it will put a zero or two to fill the 3 digits size\n",
    "        print(f\"{i}\".zfill(3))\n",
    "        time.sleep(1)\n",
    "    \n",
    "    print(\"Answer with (yes/no) or (y/n) only, if there will be a wrong answer it will be considered as no\")\n",
    "    keep = input('Do you want to continue? ').strip()[0]\n",
    "\n",
    "    if keep != 'y':\n",
    "      print(\"Bye\")\n",
    "      break\n",
    "\n",
    "  return success\n"
   ]
  },
  {
   "cell_type": "code",
   "execution_count": null,
   "metadata": {},
   "outputs": [],
   "source": [
    "# TODO: Enter one of the users in the above list\n",
    "login()\n"
   ]
  },
  {
   "cell_type": "code",
   "execution_count": null,
   "metadata": {},
   "outputs": [],
   "source": []
  }
 ],
 "metadata": {
  "kernelspec": {
   "display_name": "Python 3.10.7 64-bit",
   "language": "python",
   "name": "python3"
  },
  "language_info": {
   "codemirror_mode": {
    "name": "ipython",
    "version": 3
   },
   "file_extension": ".py",
   "mimetype": "text/x-python",
   "name": "python",
   "nbconvert_exporter": "python",
   "pygments_lexer": "ipython3",
   "version": "3.10.7"
  },
  "orig_nbformat": 4,
  "vscode": {
   "interpreter": {
    "hash": "369f2c481f4da34e4445cda3fffd2e751bd1c4d706f27375911949ba6bb62e1c"
   }
  }
 },
 "nbformat": 4,
 "nbformat_minor": 2
}
