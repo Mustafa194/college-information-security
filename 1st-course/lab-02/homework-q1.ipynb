{
 "cells": [
  {
   "cell_type": "markdown",
   "metadata": {},
   "source": [
    "# Q1\n",
    "\n",
    "#### According to the example program, do the following:\n",
    "\n",
    "1. after the user entered three wrong passwords and the program was in waiting mode (60 seconds). The program should give on chance to enter the password. If it was wrongly entered, then the program should wait for 120 seconds, and so on, i.e. after fifth attempt (180 seconds) and so on.\n"
   ]
  },
  {
   "cell_type": "code",
   "execution_count": null,
   "metadata": {},
   "outputs": [],
   "source": [
    "import time\n"
   ]
  },
  {
   "cell_type": "code",
   "execution_count": null,
   "metadata": {},
   "outputs": [],
   "source": [
    "users = [\n",
    "    {\n",
    "        'username': \"mustafa\",\n",
    "        'password': \"mustafa123\"\n",
    "    },\n",
    "    {\n",
    "        'username': \"mohammed\",\n",
    "        'password': \"mohammed123\"\n",
    "    },\n",
    "    {\n",
    "        'username': \"yousif\",\n",
    "        'password': \"yousif123\"\n",
    "    },\n",
    "    {\n",
    "        'username': \"ali\",\n",
    "        'password': \"ali123\"\n",
    "    },\n",
    "    {\n",
    "        'username': \"ahmed\",\n",
    "        'password': \"ahmed123\"\n",
    "    },\n",
    "]\n"
   ]
  },
  {
   "cell_type": "code",
   "execution_count": null,
   "metadata": {},
   "outputs": [],
   "source": [
    "def find_user_by_username(username):\n",
    "    for user in users:\n",
    "        # If the user and password match one of the users the user will be returned\n",
    "        if user['username'] == username:\n",
    "            return user\n",
    "\n",
    "    # If the user and password do not match any one in the list it will return an empty dictionary, which will mean no user found with these credentials\n",
    "    return {}\n"
   ]
  },
  {
   "cell_type": "code",
   "execution_count": null,
   "metadata": {},
   "outputs": [],
   "source": [
    "def sleep(n):\n",
    "    print(f\"Wait {n} seconds\")\n",
    "\n",
    "    for i in range(n, 0, -1):\n",
    "        print(i)\n",
    "        # this will make sure that every iteration takes only 1 second\n",
    "        time.sleep(1)\n"
   ]
  },
  {
   "cell_type": "code",
   "execution_count": null,
   "metadata": {},
   "outputs": [],
   "source": [
    "def greet_user(username):\n",
    "  # Greeting the user when entering the system\n",
    "    print(f\"Welcome {username}\")\n",
    "    print(\"You have entered the system\")\n"
   ]
  },
  {
   "cell_type": "code",
   "execution_count": null,
   "metadata": {},
   "outputs": [],
   "source": [
    "def compare_passwords(real_password, entered_password):\n",
    "    is_correct_password = real_password == entered_password\n",
    "\n",
    "    return is_correct_password\n"
   ]
  },
  {
   "cell_type": "code",
   "execution_count": null,
   "metadata": {},
   "outputs": [],
   "source": [
    "def check_user():\n",
    "    attempts = 3\n",
    "    total_attempts = 0\n",
    "    success = False\n",
    "    user = {}\n",
    "    \n",
    "    # The number of seconds should the program sleep\n",
    "    sleep_time = 5\n",
    "\n",
    "    while not user:\n",
    "        username = input(\"Enter username\")\n",
    "\n",
    "        user = find_user_by_username(username)\n",
    "\n",
    "        # If the not user found and not attempts attempts\n",
    "        if not user:\n",
    "            print(\"No such a user\")\n",
    "            # This will make the user enter the username and password again\n",
    "            continue\n",
    "\n",
    "    # If the user found, check password\n",
    "    while not success:\n",
    "        total_attempts += 1\n",
    "\n",
    "        password = input(\"Enter password\")\n",
    "\n",
    "        if compare_passwords(user['password'], password):\n",
    "            greet_user(user['username'])\n",
    "            success = True\n",
    "            return\n",
    "\n",
    "        if total_attempts < attempts:\n",
    "            print(\n",
    "                f\"You have {attempts - total_attempts} attempts to enter the password\")\n",
    "        else:\n",
    "            total_sleep_time = (total_attempts - attempts + 1) * sleep_time\n",
    "\n",
    "            sleep(total_sleep_time)\n"
   ]
  },
  {
   "cell_type": "code",
   "execution_count": null,
   "metadata": {},
   "outputs": [],
   "source": [
    "check_user()\n"
   ]
  }
 ],
 "metadata": {
  "kernelspec": {
   "display_name": "Python 3.10.7 64-bit",
   "language": "python",
   "name": "python3"
  },
  "language_info": {
   "codemirror_mode": {
    "name": "ipython",
    "version": 3
   },
   "file_extension": ".py",
   "mimetype": "text/x-python",
   "name": "python",
   "nbconvert_exporter": "python",
   "pygments_lexer": "ipython3",
   "version": "3.10.7"
  },
  "orig_nbformat": 4,
  "vscode": {
   "interpreter": {
    "hash": "369f2c481f4da34e4445cda3fffd2e751bd1c4d706f27375911949ba6bb62e1c"
   }
  }
 },
 "nbformat": 4,
 "nbformat_minor": 2
}
