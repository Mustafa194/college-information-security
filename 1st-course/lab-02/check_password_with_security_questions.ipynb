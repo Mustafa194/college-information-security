{
 "cells": [
  {
   "cell_type": "code",
   "execution_count": 1,
   "metadata": {},
   "outputs": [],
   "source": [
    "users = [\n",
    "  {\n",
    "    \"email\": \"john@gmail.com\",\n",
    "    \"password\": \"123456\",\n",
    "    \"security_questions\": [\n",
    "      {\n",
    "        \"question\": \"What is your favorite movie\",\n",
    "        \"answer\": \"The Lord of the Rings: The Two Towers\"\n",
    "      },\n",
    "      {\n",
    "        \"question\": \"What is your favorite series\",\n",
    "        \"answer\": \"Breaking Bad\"\n",
    "      }\n",
    "    ]\n",
    "  },\n",
    "  {\n",
    "    \"email\": \"tom@gmail.com\",\n",
    "    \"password\": \"123456\",\n",
    "    \"security_questions\": [\n",
    "      {\n",
    "        \"question\": \"What is your favorite movie\",\n",
    "        \"answer\": \"The Hobbit: The Battle of the Five Armies\"\n",
    "      },\n",
    "      {\n",
    "        \"question\": \"What is your favorite series\",\n",
    "        \"answer\": \"Prison Break\"\n",
    "      }\n",
    "    ]\n",
    "  },\n",
    "]"
   ]
  },
  {
   "cell_type": "code",
   "execution_count": 2,
   "metadata": {},
   "outputs": [],
   "source": [
    "def find_user_by_email(email):\n",
    "  for user in users:\n",
    "    if user['email'] == email:\n",
    "      return user\n",
    "\n",
    "  return None\n"
   ]
  },
  {
   "cell_type": "code",
   "execution_count": 6,
   "metadata": {},
   "outputs": [],
   "source": [
    "def login():\n",
    "  # The entered credentials must match one of the above users credentials\n",
    "\n",
    "  tries = 3\n",
    "\n",
    "  # Email must not contain a space or a lowercase letter\n",
    "  email = input(\"Enter email: \").strip().lower()\n",
    "  \n",
    "  user = find_user_by_email(email)\n",
    "\n",
    "  # If the user does not exist\n",
    "  if user == None:\n",
    "    print(\"No such a user\")\n",
    "    return\n",
    "  \n",
    "  for i in range(tries, 0, -1):\n",
    "    # If the email exists in the above users credentials input the password\n",
    "    password = input(\"Enter password: \")\n",
    "\n",
    "    # If the password matches the user's password the login will be done successfully\n",
    "    if user['password'] == password:\n",
    "      print(\"Login success\")\n",
    "      return\n",
    "\n",
    "    # If the password does not match this message will be printed\n",
    "    print(f\"You have {i} tries left\")\n",
    "  \n",
    "  # If the tries are done, answer the security questions\n",
    "  for security_question in user['security_questions']:\n",
    "    answer = input(f\"{security_question['question']}: \")\n",
    "\n",
    "    if answer != security_question['answer']:\n",
    "      print('Wrong answer')\n",
    "      return\n",
    "  \n",
    "  # If the user could answer the questions he/she will be having the right to login\n",
    "  print(f\"Welcome {email}\")\n"
   ]
  },
  {
   "cell_type": "code",
   "execution_count": 7,
   "metadata": {},
   "outputs": [
    {
     "name": "stdout",
     "output_type": "stream",
     "text": [
      "You have 3 tries left\n",
      "You have 2 tries left\n",
      "You have 1 tries left\n",
      "Welcome john@gmail.com\n"
     ]
    }
   ],
   "source": [
    "login()"
   ]
  },
  {
   "cell_type": "code",
   "execution_count": null,
   "metadata": {},
   "outputs": [],
   "source": []
  }
 ],
 "metadata": {
  "kernelspec": {
   "display_name": "Python 3.10.7 64-bit",
   "language": "python",
   "name": "python3"
  },
  "language_info": {
   "codemirror_mode": {
    "name": "ipython",
    "version": 3
   },
   "file_extension": ".py",
   "mimetype": "text/x-python",
   "name": "python",
   "nbconvert_exporter": "python",
   "pygments_lexer": "ipython3",
   "version": "3.10.7"
  },
  "orig_nbformat": 4,
  "vscode": {
   "interpreter": {
    "hash": "369f2c481f4da34e4445cda3fffd2e751bd1c4d706f27375911949ba6bb62e1c"
   }
  }
 },
 "nbformat": 4,
 "nbformat_minor": 2
}
