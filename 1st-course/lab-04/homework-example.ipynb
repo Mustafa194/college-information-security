{
 "cells": [
  {
   "cell_type": "markdown",
   "metadata": {},
   "source": [
    "# Example\n",
    "\n",
    "## Write a program to find the modular multiplication inverse between two numbers using extended Euclidean algorithm"
   ]
  },
  {
   "cell_type": "code",
   "execution_count": 2,
   "metadata": {},
   "outputs": [],
   "source": [
    "def gcd(n1, n2):\n",
    "  remainders = quotients = []\n",
    "  # If n2 > n1 swap them\n",
    "  if n2 > n1:\n",
    "    # The below statement represents swap in python\n",
    "    n1, n2 = n2, n1\n",
    "\n",
    "  while n2 != 0:\n",
    "    quotients.append(n1 // n2)\n",
    "    remainders.append(n1 % n2)\n",
    "    n1 = n2\n",
    "    n2 = remainders[-1]\n",
    "\n",
    "  return n1, quotients\n"
   ]
  },
  {
   "cell_type": "code",
   "execution_count": 34,
   "metadata": {},
   "outputs": [],
   "source": [
    "def extended_euclidean_algorithm(n1, n2):\n",
    "  if n1 < n2:\n",
    "    n1, n2 = n2, n1\n",
    "\n",
    "  gcd_value, quotients = gcd(n1, n2)  \n",
    "\n",
    "  if gcd_value != 1:\n",
    "    print('Inverse is not unique')\n",
    "    return\n",
    "\n",
    "  x_list = [0, 1]\n",
    "  # y_list = [1, 0]\n",
    "\n",
    "  # index = 2\n",
    "  for _ in range(len(quotients) - 1):\n",
    "    x_list.append(-quotients[-1] * x_list[-1] + x_list[-2])\n",
    "    # y_list.append(-quotients[-1] * y_list[-1] + y_list[-2])\n",
    "\n",
    "  return x_list[-1] % n2\n"
   ]
  },
  {
   "cell_type": "code",
   "execution_count": 3,
   "metadata": {},
   "outputs": [],
   "source": [
    "def xgcd(a,b):\n",
    "  prevx, x = 0, 1\n",
    "  prevy, y = 1, 0\n",
    "  while b:\n",
    "    q = a // b\n",
    "    x, prevx = prevx- q * x, x\n",
    "    y, prevy = prevy- q * y, y\n",
    "    a, b = b, a % b\n",
    "    return a, prevx, prevy"
   ]
  },
  {
   "cell_type": "code",
   "execution_count": 4,
   "metadata": {},
   "outputs": [
    {
     "name": "stdout",
     "output_type": "stream",
     "text": [
      "(5, 1, 0)\n"
     ]
    }
   ],
   "source": [
    "print(xgcd(8, 5))\n"
   ]
  },
  {
   "cell_type": "code",
   "execution_count": 23,
   "metadata": {},
   "outputs": [],
   "source": [
    "def extended_euclidean_algorithm(n1, n2):\n",
    "  if n1 < n2:\n",
    "    n1, n2 = n2, n1\n",
    "\n",
    "  gcd_value, quotients = gcd(n1, n2)\n",
    "  x_list = [1, 0]\n",
    "  y_list = [0, 1]\n",
    "  \n",
    "  if gcd_value != 1:\n",
    "    print(\"GCD not unique\")\n",
    "    return\n",
    "\n",
    "  for i in range(len(quotients) - 1):\n",
    "    x_list.append(-quotients[i - 1] * x_list[-1] + x_list[-2])\n",
    "    y_list.append(-quotients[i - 1] * y_list[-1] + y_list[-2])\n",
    "\n",
    "  return x_list[-1] % n2\n"
   ]
  },
  {
   "cell_type": "code",
   "execution_count": 24,
   "metadata": {},
   "outputs": [
    {
     "name": "stdout",
     "output_type": "stream",
     "text": [
      "3\n"
     ]
    }
   ],
   "source": [
    "n1 = int(input(\"Enter a number: \"))\n",
    "n2 = int(input(\"Enter a number: \"))\n",
    "\n",
    "print(extended_euclidean_algorithm(n1, n2))\n"
   ]
  },
  {
   "cell_type": "code",
   "execution_count": 2,
   "metadata": {},
   "outputs": [
    {
     "name": "stdout",
     "output_type": "stream",
     "text": [
      "gcd( 8 , 5 ) =  1\n"
     ]
    }
   ],
   "source": [
    "# Python program to demonstrate working of extended\n",
    "# Euclidean Algorithm\n",
    "\n",
    "# function for extended Euclidean Algorithm\n",
    "def gcdExtended(a, b):\n",
    "\t# Base Case\n",
    "\tif a == 0:\n",
    "\t\treturn b, 0, 1\n",
    "\n",
    "\tgcd, x1, y1 = gcdExtended(b % a, a)\n",
    "\n",
    "\t# Update x and y using results of recursive\n",
    "\t# call\n",
    "\tx = y1 - (b//a) * x1\n",
    "\ty = x1\n",
    "\n",
    "\treturn gcd, x, y\n",
    "\n",
    "\n",
    "# Driver code\n",
    "a, b = 8, 5\n",
    "g, x, y = gcdExtended(a, b)\n",
    "print(\"gcd(\", a, \",\", b, \") = \", g)\n"
   ]
  },
  {
   "cell_type": "code",
   "execution_count": 27,
   "metadata": {},
   "outputs": [
    {
     "name": "stdout",
     "output_type": "stream",
     "text": [
      "0\n",
      "1\n",
      "4\n",
      "2\n"
     ]
    }
   ],
   "source": [
    "\n",
    "\n",
    "def gcd(n1, n2):\n",
    "  i = 0\n",
    "  q = []\n",
    "  r = []\n",
    "  while n2 != 0:\n",
    "    q.append(n1//n2)\n",
    "    r.append(n1 % n2)\n",
    "    n1 = n2\n",
    "    n2 = r[i]\n",
    "    i += 1\n",
    "  return q, n1\n",
    "\n",
    "num1 = int(input('please Enter the number:'))\n",
    "num2 = int(input('please Enter the modular:'))\n",
    "q1, gcd_r = gcd(num2, num1)\n",
    "if gcd_r == 1:\n",
    "  x_list = [0, 1]\n",
    "\n",
    "  j = 2\n",
    "  for i in range(len(q1)-1):\n",
    "    x_list.append(-q1[j-2]*x_list[j-1]+x_list[j-2])\n",
    "    j += 1\n",
    "    print(x_list[len(x_list)-1] % num2)\n",
    "else:\n",
    "  print('Inverse is Not Unique')\n"
   ]
  },
  {
   "cell_type": "code",
   "execution_count": 5,
   "metadata": {},
   "outputs": [
    {
     "data": {
      "text/plain": [
       "([0, 1, 0, 1, 0, 1, 0, 1, 0],\n",
       " [1, 0, 1, 0, 1, 0, 1, 0, 1],\n",
       " [1, 3, 1, 2, 1, 1, 2, 0])"
      ]
     },
     "execution_count": 5,
     "metadata": {},
     "output_type": "execute_result"
    }
   ],
   "source": [
    "def iteration_method(n1: int, n2: int):\n",
    "    _gcd, quotients = gcd(n2, n1)\n",
    "\n",
    "    if _gcd != 1:\n",
    "        return\n",
    "\n",
    "    x_list = [0, 1]\n",
    "    y_list = [1, 0]\n",
    "\n",
    "    for _ in range(len(quotients) - 1):\n",
    "        x_list.append(-quotients[-1] * x_list[-1] + x_list[-2])\n",
    "        y_list.append(-quotients[-1] * y_list[-1] + y_list[-2])\n",
    "\n",
    "    return x_list, y_list, quotients\n",
    "\n",
    "iteration_method(8, 5)\n"
   ]
  },
  {
   "cell_type": "code",
   "execution_count": null,
   "metadata": {},
   "outputs": [],
   "source": []
  }
 ],
 "metadata": {
  "kernelspec": {
   "display_name": "Python 3.10.7 64-bit",
   "language": "python",
   "name": "python3"
  },
  "language_info": {
   "codemirror_mode": {
    "name": "ipython",
    "version": 3
   },
   "file_extension": ".py",
   "mimetype": "text/x-python",
   "name": "python",
   "nbconvert_exporter": "python",
   "pygments_lexer": "ipython3",
   "version": "3.10.7"
  },
  "orig_nbformat": 4,
  "vscode": {
   "interpreter": {
    "hash": "369f2c481f4da34e4445cda3fffd2e751bd1c4d706f27375911949ba6bb62e1c"
   }
  }
 },
 "nbformat": 4,
 "nbformat_minor": 2
}
