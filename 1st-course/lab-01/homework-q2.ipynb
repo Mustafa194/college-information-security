{
 "cells": [
  {
   "cell_type": "markdown",
   "metadata": {},
   "source": [
    "# Q2\n",
    "\n",
    "#### The program should warn the user if he/she use repeated letters more than 3 times.\n"
   ]
  },
  {
   "cell_type": "code",
   "execution_count": null,
   "metadata": {},
   "outputs": [],
   "source": [
    "def get_duplicates(text, n):\n",
    "    duplicated_chars = {}\n",
    "    all_different_chars = set(list(text))\n",
    "\n",
    "    for char in all_different_chars:\n",
    "        if text.count(char) >= n:\n",
    "            duplicated_chars[char] = text.count(char)\n",
    "\n",
    "    return duplicated_chars\n"
   ]
  },
  {
   "cell_type": "code",
   "execution_count": null,
   "metadata": {},
   "outputs": [],
   "source": [
    "def get_duplicate_chars(text, n):\n",
    "    return {char: text.count(char) for char in set(list(text)) if text.count(char) >= n}\n"
   ]
  },
  {
   "cell_type": "code",
   "execution_count": null,
   "metadata": {},
   "outputs": [],
   "source": [
    "def check_password(password):\n",
    "    if len(password) < 8:\n",
    "        print(\"Password not acceptable\")\n",
    "        return\n",
    "\n",
    "    # Number of not allowed duplicates\n",
    "    n = 3\n",
    "\n",
    "    # You can choose one of the two functions above\n",
    "    duplicated_chars = get_duplicate_chars(password, n)\n",
    "\n",
    "    if duplicated_chars:\n",
    "        print(\"Password not acceptable\")\n",
    "        for char in duplicated_chars:\n",
    "            print(f'{char} is duplicated {n} times or more')\n",
    "\n",
    "        return\n",
    "\n",
    "    digit = lower = upper = special = 0\n",
    "\n",
    "    for char in password:\n",
    "        if char.isupper():\n",
    "            upper = 1\n",
    "        elif char.islower():\n",
    "            lower = 1\n",
    "        elif char.isdigit():\n",
    "            digit = 1\n",
    "        else:\n",
    "            special = 1\n",
    "\n",
    "        result = lower + upper + digit + special\n",
    "        # result = sum(lower, upper, digit, special) # you can try this instead of the line above\n",
    "\n",
    "    if result == 4:\n",
    "        print(f\"Your password is strong\")\n",
    "    elif result == 3:\n",
    "        print(\"Your password is good\")\n",
    "    elif result == 2:\n",
    "        print(\"Your password is weak\")\n",
    "    elif result == 1:\n",
    "        print(\"Bad password\")\n",
    "    else:\n",
    "        print(\"Error\")\n"
   ]
  },
  {
   "cell_type": "code",
   "execution_count": null,
   "metadata": {},
   "outputs": [],
   "source": [
    "password = input(\"Enter password: \")\n",
    "\n",
    "check_password(password)\n"
   ]
  }
 ],
 "metadata": {
  "kernelspec": {
   "display_name": "Python 3.10.7 64-bit",
   "language": "python",
   "name": "python3"
  },
  "language_info": {
   "codemirror_mode": {
    "name": "ipython",
    "version": 3
   },
   "file_extension": ".py",
   "mimetype": "text/x-python",
   "name": "python",
   "nbconvert_exporter": "python",
   "pygments_lexer": "ipython3",
   "version": "3.10.7"
  },
  "orig_nbformat": 4,
  "vscode": {
   "interpreter": {
    "hash": "369f2c481f4da34e4445cda3fffd2e751bd1c4d706f27375911949ba6bb62e1c"
   }
  }
 },
 "nbformat": 4,
 "nbformat_minor": 2
}
