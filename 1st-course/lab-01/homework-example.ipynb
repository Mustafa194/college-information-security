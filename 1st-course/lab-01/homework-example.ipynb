{
 "cells": [
  {
   "cell_type": "markdown",
   "metadata": {},
   "source": [
    "# First Lab\n"
   ]
  },
  {
   "cell_type": "markdown",
   "metadata": {},
   "source": [
    "## Example\n",
    "\n",
    "### Write a program to enter a password and then check the following\n",
    "\n",
    "1. Is the password's length >= 8? If not, the program should announce that is less than 8 and not acceptable.\n",
    "\n",
    "2. In case of the password's length >= 8, the program should check if it is contained small letters, numbers, and special characters as follows:\n",
    "   1. All 4 criteria: password is strong.\n",
    "   2. At least hold 3 criteria: password is good.\n",
    "   3. At least hold 2 criteria: password is weak.\n",
    "   4. Elsewhere the password is bad.\n"
   ]
  },
  {
   "cell_type": "markdown",
   "metadata": {},
   "source": [
    "### Answer\n"
   ]
  },
  {
   "cell_type": "code",
   "execution_count": null,
   "metadata": {},
   "outputs": [],
   "source": [
    "def check_password(password):\n",
    "    if len(password) < 8:\n",
    "        print(\"Password not acceptable\")\n",
    "        return\n",
    "\n",
    "    digit = lower = upper = special = 0\n",
    "\n",
    "    for char in password:\n",
    "        if char.isupper():\n",
    "            upper = 1\n",
    "        elif char.islower():\n",
    "            lower = 1\n",
    "        elif char.isdigit():\n",
    "            digit = 1\n",
    "        else:\n",
    "            special = 1\n",
    "\n",
    "        result = lower + upper + digit + special\n",
    "        # result = sum(lower, upper, digit, special) # you can try this instead of the line above\n",
    "\n",
    "    if result == 4:\n",
    "        print(f\"Your password is strong\")\n",
    "    elif result == 3:\n",
    "        print(\"Your password is good\")\n",
    "    elif result == 2:\n",
    "        print(\"Your password is weak\")\n",
    "    elif result == 1:\n",
    "        print(\"Bad password\")\n",
    "    else:\n",
    "        print(\"Error\")\n"
   ]
  },
  {
   "cell_type": "code",
   "execution_count": null,
   "metadata": {},
   "outputs": [],
   "source": [
    "password = input(\"Enter password: \")\n",
    "\n",
    "check_password(password)\n"
   ]
  }
 ],
 "metadata": {
  "kernelspec": {
   "display_name": "Python 3.10.7 64-bit",
   "language": "python",
   "name": "python3"
  },
  "language_info": {
   "codemirror_mode": {
    "name": "ipython",
    "version": 3
   },
   "file_extension": ".py",
   "mimetype": "text/x-python",
   "name": "python",
   "nbconvert_exporter": "python",
   "pygments_lexer": "ipython3",
   "version": "3.10.7"
  },
  "orig_nbformat": 4,
  "vscode": {
   "interpreter": {
    "hash": "369f2c481f4da34e4445cda3fffd2e751bd1c4d706f27375911949ba6bb62e1c"
   }
  }
 },
 "nbformat": 4,
 "nbformat_minor": 2
}
