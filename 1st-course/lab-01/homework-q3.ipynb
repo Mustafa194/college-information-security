{
 "cells": [
  {
   "cell_type": "markdown",
   "metadata": {},
   "source": [
    "# Q3\n",
    "\n",
    "#### The program should count the number of capital, small, numbers, and special characters\n"
   ]
  },
  {
   "cell_type": "code",
   "execution_count": null,
   "metadata": {},
   "outputs": [],
   "source": [
    "def check_password(password):\n",
    "    if len(password) < 8:\n",
    "        print(\"Password not acceptable\")\n",
    "        return\n",
    "\n",
    "    digit_count = lower_count = upper_count = special_count = 0\n",
    "    digit = lower = upper = special = 0\n",
    "\n",
    "    for char in password:\n",
    "        if char.isupper():\n",
    "            upper = 1\n",
    "            upper_count += 1\n",
    "        elif char.islower():\n",
    "            lower = 1\n",
    "            lower_count += 1\n",
    "        elif char.isdigit():\n",
    "            digit = 1\n",
    "            digit_count += 1\n",
    "        else:\n",
    "            special = 1\n",
    "            special_count += 1\n",
    "\n",
    "    result = lower + upper + digit + special\n",
    "    # result = sum(lower, upper, digit, special) # you can try this instead of the line above\n",
    "\n",
    "    print(f\"The password contains: {digit_count} digits\")\n",
    "    print(f\"The password contains: {lower_count} lowercase letters\")\n",
    "    print(f\"The password contains: {upper_count} uppercase letters\")\n",
    "    print(f\"The password contains: {special_count} special characters\")\n",
    "\n",
    "    if result == 4:\n",
    "        print(f\"Your password is strong\")\n",
    "    elif result == 3:\n",
    "        print(\"Your password is good\")\n",
    "    elif result == 2:\n",
    "        print(\"Your password is weak\")\n",
    "    elif result == 1:\n",
    "        print(\"Bad password\")\n",
    "    else:\n",
    "        print(\"Error\")\n"
   ]
  },
  {
   "cell_type": "code",
   "execution_count": null,
   "metadata": {},
   "outputs": [],
   "source": [
    "password = input(\"Enter password: \")\n",
    "\n",
    "check_password(password)\n"
   ]
  }
 ],
 "metadata": {
  "kernelspec": {
   "display_name": "Python 3.10.7 64-bit",
   "language": "python",
   "name": "python3"
  },
  "language_info": {
   "name": "python",
   "version": "3.10.7"
  },
  "orig_nbformat": 4,
  "vscode": {
   "interpreter": {
    "hash": "369f2c481f4da34e4445cda3fffd2e751bd1c4d706f27375911949ba6bb62e1c"
   }
  }
 },
 "nbformat": 4,
 "nbformat_minor": 2
}
