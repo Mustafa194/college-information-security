{
 "cells": [
  {
   "cell_type": "markdown",
   "metadata": {},
   "source": [
    "# Q1\n",
    "\n",
    "#### Don't use existing functions from python library (isupper, islower, ...etc).\n"
   ]
  },
  {
   "cell_type": "code",
   "execution_count": null,
   "metadata": {},
   "outputs": [],
   "source": [
    "def is_lower(char):\n",
    "    return char >= 'a' and char <= 'z'\n",
    "\n",
    "\n",
    "def is_upper(char):\n",
    "    return char >= 'A' and char <= 'Z'\n",
    "\n",
    "\n",
    "def is_digit(char):\n",
    "    return char >= '0' and char <= '9'\n"
   ]
  },
  {
   "cell_type": "code",
   "execution_count": null,
   "metadata": {},
   "outputs": [],
   "source": [
    "def check_password(password):\n",
    "    if len(password) < 8:\n",
    "        print(\"Password not acceptable\")\n",
    "        return\n",
    "\n",
    "    digit = lower = upper = special = 0\n",
    "\n",
    "    for char in password:\n",
    "        if is_upper(char):\n",
    "            upper = 1\n",
    "        elif is_lower(char):\n",
    "            lower = 1\n",
    "        elif is_digit(char):\n",
    "            digit = 1\n",
    "        else:\n",
    "            special = 1\n",
    "\n",
    "        result = lower + upper + digit + special\n",
    "        # result = sum(lower, upper, digit, special) # you can try this instead of the line above\n",
    "\n",
    "    if result == 4:\n",
    "        print(f\"Your password is strong\")\n",
    "    elif result == 3:\n",
    "        print(\"Your password is good\")\n",
    "    elif result == 2:\n",
    "        print(\"Your password is weak\")\n",
    "    elif result == 1:\n",
    "        print(\"Bad password\")\n",
    "    else:\n",
    "        print(\"Error\")\n"
   ]
  },
  {
   "cell_type": "code",
   "execution_count": null,
   "metadata": {},
   "outputs": [],
   "source": [
    "password = input(\"Enter password\")\n",
    "\n",
    "check_password(password)\n"
   ]
  }
 ],
 "metadata": {
  "kernelspec": {
   "display_name": "Python 3.10.7 64-bit",
   "language": "python",
   "name": "python3"
  },
  "language_info": {
   "name": "python",
   "version": "3.10.7"
  },
  "orig_nbformat": 4,
  "vscode": {
   "interpreter": {
    "hash": "369f2c481f4da34e4445cda3fffd2e751bd1c4d706f27375911949ba6bb62e1c"
   }
  }
 },
 "nbformat": 4,
 "nbformat_minor": 2
}
