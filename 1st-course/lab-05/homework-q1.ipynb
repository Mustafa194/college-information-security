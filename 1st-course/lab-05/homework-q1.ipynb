{
 "cells": [
  {
   "cell_type": "code",
   "execution_count": null,
   "metadata": {},
   "outputs": [],
   "source": [
    "import string"
   ]
  },
  {
   "cell_type": "markdown",
   "metadata": {},
   "source": [
    "## Encryption Function"
   ]
  },
  {
   "cell_type": "code",
   "execution_count": null,
   "metadata": {},
   "outputs": [],
   "source": [
    "def small_letters_encrypt(plain_text, key):\n",
    "  letters = [i for i in string.ascii_lowercase]\n",
    "  cipher = ''\n",
    "\n",
    "  for i in range(len(plain_text)):\n",
    "    for j in range(len(letters)):\n",
    "      if plain_text[i] == letters[j]:\n",
    "        index = j\n",
    "\n",
    "        cipher_index = (index + key) % 26\n",
    "\n",
    "        cipher += letters[cipher_index]\n",
    "\n",
    "  return cipher\n"
   ]
  },
  {
   "cell_type": "code",
   "execution_count": null,
   "metadata": {},
   "outputs": [],
   "source": [
    "plain_text = input('Enter a plain text to be encrypted: ')\n",
    "key = int(input(\"Enter a key (must be a number): \"))\n",
    "\n",
    "print(small_letters_encrypt(plain_text, key))\n"
   ]
  },
  {
   "cell_type": "markdown",
   "metadata": {},
   "source": [
    "## Decryption Function"
   ]
  },
  {
   "cell_type": "code",
   "execution_count": null,
   "metadata": {},
   "outputs": [],
   "source": [
    "def small_letters_decrypt(cipher_text, key):\n",
    "  letters = [i for i in string.ascii_lowercase]\n",
    "  plain = ''\n",
    "\n",
    "  for i in range(len(cipher_text)):\n",
    "    for j in range(len(letters)):\n",
    "      if cipher_text[i] == letters[j]:\n",
    "        index = j\n",
    "\n",
    "        plain_index = (index - key) % 26\n",
    "\n",
    "        plain += letters[plain_index]\n",
    "\n",
    "  return plain\n"
   ]
  },
  {
   "cell_type": "code",
   "execution_count": null,
   "metadata": {},
   "outputs": [],
   "source": [
    "cipher_text = input('Enter a cipher text to be decrypted: ')\n",
    "key = int(input(\"Enter a key (must be a number): \"))\n",
    "\n",
    "print(small_letters_decrypt(cipher_text, key))\n"
   ]
  }
 ],
 "metadata": {
  "kernelspec": {
   "display_name": "Python 3.10.7 64-bit",
   "language": "python",
   "name": "python3"
  },
  "language_info": {
   "name": "python",
   "version": "3.10.7"
  },
  "orig_nbformat": 4,
  "vscode": {
   "interpreter": {
    "hash": "369f2c481f4da34e4445cda3fffd2e751bd1c4d706f27375911949ba6bb62e1c"
   }
  }
 },
 "nbformat": 4,
 "nbformat_minor": 2
}
