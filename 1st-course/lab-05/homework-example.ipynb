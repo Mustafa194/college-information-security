{
 "cells": [
  {
   "cell_type": "markdown",
   "metadata": {},
   "source": [
    "# Example"
   ]
  },
  {
   "cell_type": "markdown",
   "metadata": {},
   "source": [
    "## 1. Write a program to encrypt a message using Cesar cipher for only 26 small letters"
   ]
  },
  {
   "cell_type": "code",
   "execution_count": null,
   "metadata": {},
   "outputs": [],
   "source": [
    "import string\n",
    "letters = \"\"\n",
    "cipher = \"\"\n",
    "plain = input('please enter a plain text: ')\n",
    "key = int(input('please enter the key: '))\n",
    "for character in string.ascii_lowercase:\n",
    "  letters = letters + character\n",
    "for i in range(len(plain)):\n",
    "  for j in range(len(letters)):\n",
    "    if plain[i] == letters[j]:\n",
    "      index = j\n",
    "c_index = (index + key) % 26\n",
    "cipher = cipher + letters[c_index]\n",
    "print('cipher text= '+cipher)\n"
   ]
  },
  {
   "cell_type": "markdown",
   "metadata": {},
   "source": [
    "## 2. Write a program to decryption a message using Caesar cipher for only 26 small letters."
   ]
  },
  {
   "cell_type": "code",
   "execution_count": null,
   "metadata": {},
   "outputs": [],
   "source": [
    "import string\n",
    "letters = \"\"\n",
    "plain = \"\"\n",
    "cipher = input('please enter a cipher text: ')\n",
    "key = int(input('please enter the key: '))\n",
    "for character in string.ascii_lowercase:\n",
    "  letters = letters + character\n",
    "for i in range(len(cipher)):\n",
    "  for j in range(len(letters)):\n",
    "    if cipher[i] == letters[j]:\n",
    "      index = j\n",
    "      p_index = (index - key) % 26\n",
    "      plain = plain + letters[p_index]\n",
    "print('cipher text= '+plain)\n"
   ]
  }
 ],
 "metadata": {
  "kernelspec": {
   "display_name": "Python 3.10.7 64-bit",
   "language": "python",
   "name": "python3"
  },
  "language_info": {
   "codemirror_mode": {
    "name": "ipython",
    "version": 3
   },
   "file_extension": ".py",
   "mimetype": "text/x-python",
   "name": "python",
   "nbconvert_exporter": "python",
   "pygments_lexer": "ipython3",
   "version": "3.10.7"
  },
  "orig_nbformat": 4,
  "vscode": {
   "interpreter": {
    "hash": "369f2c481f4da34e4445cda3fffd2e751bd1c4d706f27375911949ba6bb62e1c"
   }
  }
 },
 "nbformat": 4,
 "nbformat_minor": 2
}
