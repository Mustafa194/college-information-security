{
 "cells": [
  {
   "cell_type": "markdown",
   "metadata": {},
   "source": [
    "# Q2\n",
    "### according to above program, use python facilities to simplify the program."
   ]
  },
  {
   "cell_type": "code",
   "execution_count": null,
   "metadata": {},
   "outputs": [],
   "source": [
    "def cesar_cipher_encryption(plain_text: str, key: int) -> str:\n",
    "    letters = [chr(i) for i in range(ord('a'), ord('z') + 1)]\n",
    "    cipher = ''\n",
    "\n",
    "    if key >= len(letters):\n",
    "      key = key % len(letters)\n",
    "\n",
    "    for plain_char in plain_text:\n",
    "      index = letters.index(plain_char)\n",
    "      cipher = cipher + letters[(index + key) % len(letters)]\n",
    "\n",
    "    return cipher\n"
   ]
  },
  {
   "cell_type": "code",
   "execution_count": null,
   "metadata": {},
   "outputs": [],
   "source": [
    "def cesar_cipher_decryption(encrypted_text: str, key: int) -> str:\n",
    "    letters = [chr(i) for i in range(ord('a'), ord('z') + 1)]\n",
    "    cipher = ''\n",
    "\n",
    "    if key >= len(letters):\n",
    "      key = key % len(letters)\n",
    "\n",
    "    for encrypted_char in encrypted_text:\n",
    "      index = letters.index(encrypted_char)\n",
    "      cipher = cipher + letters[(index - key) % len(letters)]\n",
    "\n",
    "    return cipher\n"
   ]
  }
 ],
 "metadata": {
  "kernelspec": {
   "display_name": "Python 3.10.7 64-bit",
   "language": "python",
   "name": "python3"
  },
  "language_info": {
   "name": "python",
   "version": "3.10.7"
  },
  "orig_nbformat": 4,
  "vscode": {
   "interpreter": {
    "hash": "369f2c481f4da34e4445cda3fffd2e751bd1c4d706f27375911949ba6bb62e1c"
   }
  }
 },
 "nbformat": 4,
 "nbformat_minor": 2
}
