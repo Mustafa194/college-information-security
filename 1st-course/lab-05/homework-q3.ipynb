{
 "cells": [
  {
   "cell_type": "markdown",
   "metadata": {},
   "source": [
    "# Q3\n",
    "\n",
    "### Write a program to encryption a message using Caesar cipher with ASCII code."
   ]
  },
  {
   "cell_type": "code",
   "execution_count": null,
   "metadata": {},
   "outputs": [],
   "source": [
    "def cesar_cipher_encrypt(plain_text: str, key: int) -> str:\n",
    "    cipher = ''\n",
    "    length = 256\n",
    "\n",
    "    if key >= length:\n",
    "        key %= length\n",
    "\n",
    "    for plain_char in plain_text:\n",
    "        cipher += chr((ord(plain_char) + key) % length)\n",
    "\n",
    "    return cipher\n"
   ]
  }
 ],
 "metadata": {
  "kernelspec": {
   "display_name": "Python 3.10.7 64-bit",
   "language": "python",
   "name": "python3"
  },
  "language_info": {
   "name": "python",
   "version": "3.10.7"
  },
  "orig_nbformat": 4,
  "vscode": {
   "interpreter": {
    "hash": "369f2c481f4da34e4445cda3fffd2e751bd1c4d706f27375911949ba6bb62e1c"
   }
  }
 },
 "nbformat": 4,
 "nbformat_minor": 2
}
