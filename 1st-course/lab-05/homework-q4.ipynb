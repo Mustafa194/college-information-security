{
 "cells": [
  {
   "cell_type": "markdown",
   "metadata": {},
   "source": [
    "# Q4\n",
    "\n",
    "### Write a program to decryption a message using Caesar cipher with ASCII code."
   ]
  },
  {
   "cell_type": "code",
   "execution_count": 1,
   "metadata": {},
   "outputs": [],
   "source": [
    "def cesar_cipher_decrypt(encrypted_text: str, key: int) -> str:\n",
    "    cipher = ''\n",
    "    length = 256\n",
    "\n",
    "    if key >= length:\n",
    "        key %= length\n",
    "\n",
    "    for encrypted_char in encrypted_text:\n",
    "        cipher += chr((ord(encrypted_char) - key) % length)\n",
    "\n",
    "    return cipher\n"
   ]
  }
 ],
 "metadata": {
  "kernelspec": {
   "display_name": "Python 3.10.7 64-bit",
   "language": "python",
   "name": "python3"
  },
  "language_info": {
   "codemirror_mode": {
    "name": "ipython",
    "version": 3
   },
   "file_extension": ".py",
   "mimetype": "text/x-python",
   "name": "python",
   "nbconvert_exporter": "python",
   "pygments_lexer": "ipython3",
   "version": "3.10.7"
  },
  "orig_nbformat": 4,
  "vscode": {
   "interpreter": {
    "hash": "369f2c481f4da34e4445cda3fffd2e751bd1c4d706f27375911949ba6bb62e1c"
   }
  }
 },
 "nbformat": 4,
 "nbformat_minor": 2
}
